{
  "nbformat": 4,
  "nbformat_minor": 0,
  "metadata": {
    "colab": {
      "provenance": []
    },
    "kernelspec": {
      "name": "python3",
      "display_name": "Python 3"
    },
    "language_info": {
      "name": "python"
    }
  },
  "cells": [
    {
      "cell_type": "markdown",
      "source": [
        "I compile a common dataset for DAX activity. Other assets are calculated similarly, only by changing variable names."
      ],
      "metadata": {
        "id": "9lJUQd_J9lL4"
      }
    },
    {
      "cell_type": "code",
      "source": [
        "DAX = pd.concat([Index[[\"Unnamed: 6\", \"DAX Index\"]], RiskFree[\"Germany RF Index\"]], axis=1)"
      ],
      "metadata": {
        "id": "4coOlHQL91gD"
      },
      "execution_count": null,
      "outputs": []
    },
    {
      "cell_type": "markdown",
      "source": [
        "We calculate the DAX investment index. (ROI)"
      ],
      "metadata": {
        "id": "iwacbcJQ90YU"
      }
    },
    {
      "cell_type": "code",
      "source": [
        "def index(df, col):\n",
        "    first_val = df[col].iloc[0]\n",
        "    index = df[col].div(first_val)\n",
        "    return index\n",
        "\n",
        "DAX['Index DAX'] = index(DAX,\"DAX Index\")"
      ],
      "metadata": {
        "id": "V_DIY2eT-BQe"
      },
      "execution_count": null,
      "outputs": []
    },
    {
      "cell_type": "markdown",
      "source": [
        "We calculate the monthly return of DAX."
      ],
      "metadata": {
        "id": "AnWnMuwn-RCc"
      }
    },
    {
      "cell_type": "code",
      "source": [
        "def Return(df, col):\n",
        "    Return = df[col].div(df[col].shift())  # divide each value by the previous value\n",
        "    Return.iloc[0] = 1  # set the first value to 1\n",
        "    Return = (Return - 1)  # subtract 1 from each value\n",
        "    return Return\n",
        "\n",
        "DAX['Return DAX'] = Return(DAX,\"Index DAX\")"
      ],
      "metadata": {
        "id": "kv-qwNk4-U-Q"
      },
      "execution_count": null,
      "outputs": []
    },
    {
      "cell_type": "markdown",
      "source": [
        "We are calculating the monthly return of Germany RF.\n",
        "(For DAX and S&P500 assets, we calculated the US RF return)"
      ],
      "metadata": {
        "id": "5IxCr4vj-XA1"
      }
    },
    {
      "cell_type": "code",
      "source": [
        "def ReturnUS(df, col):\n",
        "    ReturnUS = df[col].div(df[col].shift()) previous value\n",
        "    ReturnUS.iloc[0] = 1\n",
        "    ReturnUS = (ReturnUS - 1)\n",
        "    return ReturnUS\n",
        "\n",
        "DAX['Return GERRF'] = ReturnUS(DAX,\"Germany RF Index\")"
      ],
      "metadata": {
        "id": "L-qv4cjG-hvk"
      },
      "execution_count": null,
      "outputs": []
    },
    {
      "cell_type": "markdown",
      "source": [
        "Monthly returns of DAX above risk-free investment"
      ],
      "metadata": {
        "id": "FOrTMqaL-leS"
      }
    },
    {
      "cell_type": "code",
      "source": [
        "def Return_month(df, col1, col2):\n",
        "    Return_month = df[col1] - df[col2]  # divide each value by the first value\n",
        "    return Return_month\n",
        "\n",
        "DAX['Return Month'] = Return_month(DAX,\"Return DAX\",\"Return GERRF\")"
      ],
      "metadata": {
        "id": "nR0X-sQp-qmO"
      },
      "execution_count": null,
      "outputs": []
    },
    {
      "cell_type": "markdown",
      "source": [
        "Plot the price and return changes for the DAX asset."
      ],
      "metadata": {
        "id": "GHNFfRbs-tBo"
      }
    },
    {
      "cell_type": "code",
      "source": [
        "fig, axs = plt.subplots(2, 1, figsize=(16, 12), sharex=True)\n",
        "\n",
        "axs[0].plot(DAX['Unnamed: 6'], DAX['DAX Index'],linewidth=2)\n",
        "axs[0].set_ylabel('Akcijos kaina',fontsize=20)\n",
        "axs[0].set_title('DAX mėnesinis akcijų kainos pokytis',size=20)\n",
        "\n",
        "axs[1].plot(DAX['Unnamed: 6'], DAX['Return DAX'], linewidth=2)\n",
        "axs[1].set_ylabel('Grąžos dydis',fontsize=20)\n",
        "axs[1].set_title('DAX mėnesinis grąžų pokytis',size=20)\n",
        "\n",
        "plt.show()"
      ],
      "metadata": {
        "id": "IB9t44__-yzY"
      },
      "execution_count": null,
      "outputs": []
    },
    {
      "cell_type": "markdown",
      "source": [
        "Line chart of all returns above risk-free investment"
      ],
      "metadata": {
        "id": "6WWZp0ko-1Bn"
      }
    },
    {
      "cell_type": "code",
      "source": [
        "fig, axs = plt.subplots(1, 1, figsize=(15, 10), sharex=True)\n",
        "\n",
        "\n",
        "plt.plot(DAX['Unnamed: 6'], DAX['Return Month'], linewidth=2, label='DAX')\n",
        "plt.plot(S_P500['Unnamed: 0'], S_P500['Return Month'], linewidth=2, label='S&P500')\n",
        "plt.plot(REIT['Unnamed: 2'], REIT['Return Month'], linewidth=2, label='REIT')\n",
        "plt.ylabel('Grąža', fontsize=20)\n",
        "plt.title('Grąžos virš NI', size=20)\n",
        "plt.legend(fontsize=16)"
      ],
      "metadata": {
        "id": "qL7-h7U6-57G"
      },
      "execution_count": null,
      "outputs": []
    },
    {
      "cell_type": "markdown",
      "source": [
        "Total for all months"
      ],
      "metadata": {
        "id": "-R-FFbQ7_BJx"
      }
    },
    {
      "cell_type": "code",
      "source": [
        "num_month = S_P500.shape[0] - 1\n",
        "print('Number of rows:', num_month)"
      ],
      "metadata": {
        "id": "sO4P5NFq_GKu"
      },
      "execution_count": null,
      "outputs": []
    },
    {
      "cell_type": "markdown",
      "source": [
        "Calculation of average returns above Risk-Free Investment"
      ],
      "metadata": {
        "id": "SAu3w4HM_IGG"
      }
    },
    {
      "cell_type": "code",
      "source": [
        "Return_NI_DAX = ((DAX[\"Index DAX\"].iloc[-1] / DAX[\"Germany RF Index\"].iloc[-1])**(12/num_month))-1"
      ],
      "metadata": {
        "id": "AWthFWN__PLO"
      },
      "execution_count": null,
      "outputs": []
    },
    {
      "cell_type": "markdown",
      "source": [
        "We perform a test to verify whether the average statistically differs from 0 for the DAX asset."
      ],
      "metadata": {
        "id": "YVH-7TMn_Qv_"
      }
    },
    {
      "cell_type": "code",
      "source": [
        "t_stat, p_value = ttest_1samp(DAX['Return Month'], 0)\n",
        "print(\"T-statistic value: \", t_stat)\n",
        "print(\"P-Value: \", p_value)"
      ],
      "metadata": {
        "id": "2f7NWfbM_W-v"
      },
      "execution_count": null,
      "outputs": []
    },
    {
      "cell_type": "markdown",
      "source": [
        "We calculate the standard deviation."
      ],
      "metadata": {
        "id": "EfT7QTar_Yn6"
      }
    },
    {
      "cell_type": "code",
      "source": [
        "std_dev_DAX = (DAX[\"Return Month\"].std())*np.sqrt(12)"
      ],
      "metadata": {
        "id": "FuVIl2F8_fEI"
      },
      "execution_count": null,
      "outputs": []
    },
    {
      "cell_type": "markdown",
      "source": [
        "Calculation of the Sharpe ratio."
      ],
      "metadata": {
        "id": "YnXNqwiR_ii9"
      }
    },
    {
      "cell_type": "code",
      "source": [
        "Sharpe_Ratio_DAX = Return_NI_DAX / std_dev_DAX"
      ],
      "metadata": {
        "id": "DpApAF5G_oFY"
      },
      "execution_count": null,
      "outputs": []
    },
    {
      "cell_type": "markdown",
      "source": [
        "Calculation of skewness and kurtosis."
      ],
      "metadata": {
        "id": "bji9vaRy_p23"
      }
    },
    {
      "cell_type": "code",
      "source": [
        "DAX_skew = skew(DAX['Return Month'])\n",
        "DAX_kurt = kurtosis(DAX['Return Month'])"
      ],
      "metadata": {
        "id": "W27gWcqN_vNf"
      },
      "execution_count": null,
      "outputs": []
    },
    {
      "cell_type": "markdown",
      "source": [
        "We check whether these indicators significantly differ from a normal distribution."
      ],
      "metadata": {
        "id": "cEEj59eT_xX_"
      }
    },
    {
      "cell_type": "code",
      "source": [
        "DAX_skew_test = skewtest(DAX['Return Month'])\n",
        "DAX_kurt_test = kurtosistest(DAX['Return Month'])"
      ],
      "metadata": {
        "id": "CbVO-P-p_2jJ"
      },
      "execution_count": null,
      "outputs": []
    },
    {
      "cell_type": "markdown",
      "source": [
        "Calculation of VaR and CVaR."
      ],
      "metadata": {
        "id": "vDOX4T-b_5Ta"
      }
    },
    {
      "cell_type": "code",
      "source": [
        "VaR999_SP = Return_NI_SP + (std_dev_SP * norm.ppf(0.001))\n",
        "VaR95_SP = Return_NI_SP + (std_dev_SP * norm.ppf(0.05))\n",
        "VaR99_SP = Return_NI_SP + (std_dev_SP * norm.ppf(0.01))\n",
        "\n",
        "VaR999_DAX = Return_NI_DAX + (std_dev_DAX * norm.ppf(0.001))\n",
        "VaR95_DAX = Return_NI_DAX + (std_dev_DAX * norm.ppf(0.05))\n",
        "VaR99_DAX = Return_NI_DAX + (std_dev_DAX * norm.ppf(0.01))\n",
        "\n",
        "z999 = norm.ppf(1-con999)\n",
        "z95 = norm.ppf(1-con95)\n",
        "z99 = norm.ppf(1-con99)\n",
        "\n",
        "CVaR999_DAX = 1 * (Return_NI_DAX - std_dev_DAX * (norm.pdf(z999)/(1-con999)))\n",
        "CVaR95_DAX = 1 * (Return_NI_DAX - std_dev_DAX * (norm.pdf(z95)/(1-con95)))\n",
        "CVaR99_DAX = 1 * (Return_NI_DAX - std_dev_DAX * (norm.pdf(z99)/(1-con99)))"
      ],
      "metadata": {
        "id": "vtvZ416n_9fk"
      },
      "execution_count": null,
      "outputs": []
    },
    {
      "cell_type": "markdown",
      "source": [
        "Application of the CAPM model."
      ],
      "metadata": {
        "id": "tYotTMBWABik"
      }
    },
    {
      "cell_type": "code",
      "source": [
        "Market_Return_DAX = ((DAX[\"Germany RF Index\"].iloc[-1] / DAX[\"Germany RF Index\"].iloc[1])**(12/num_month))-1\n",
        "covariance_DAX = DAX[\"DAX return\"].cov(DAX[\"RF return\"])\n",
        "variance_DAX = DAX[\"RF return\"].var()\n",
        "beta_DAX = covariance_DAX / variance_DAX\n",
        "print(\"Beta of DAX:\", beta_DAX)\n",
        "CAPM_DAX = Return_NI_DAX + beta_DAX * (Market_Return_DAX-Return_NI_DAX)\n",
        "print(\"CAPM model value of DAX:\", CAPM_DAX)"
      ],
      "metadata": {
        "id": "iG3KV2HzAD7B"
      },
      "execution_count": null,
      "outputs": []
    },
    {
      "cell_type": "markdown",
      "source": [
        "Calculating the logarithms of returns."
      ],
      "metadata": {
        "id": "UvDBjLMSAKqF"
      }
    },
    {
      "cell_type": "code",
      "source": [
        "def Log_Return(df, col):\n",
        "    log_return = np.log(df[col]) - np.log(df[col].shift())\n",
        "    log_return.iloc[0] = 0\n",
        "    return log_return\n",
        "\n",
        "def Return_month_log(df, col1, col2):\n",
        "    Return_month_log = df[col1] - df[col2]\n",
        "    return Return_month_log"
      ],
      "metadata": {
        "id": "lpRk1535AOhe"
      },
      "execution_count": null,
      "outputs": []
    },
    {
      "cell_type": "markdown",
      "source": [
        "Checking assumptions for data stationarity."
      ],
      "metadata": {
        "id": "y3RDL_SJAUEN"
      }
    },
    {
      "cell_type": "code",
      "source": [
        "result_DAX = adfuller(DAX['Monthly log return'])\n",
        "print('ADF Statistic of DAX: %f' % result_DAX[0])\n",
        "print('p-value: %f' % result_DAX[1])\n",
        "print('Critical Values:')\n",
        "for key, value in result_DAX[4].items():\n",
        "print('\\t%s: %.3f' % (key, value))"
      ],
      "metadata": {
        "id": "zVtbIjvIAZcY"
      },
      "execution_count": null,
      "outputs": []
    },
    {
      "cell_type": "markdown",
      "source": [
        "Testing residuals for independence."
      ],
      "metadata": {
        "id": "XGR_P0WwAbjz"
      }
    },
    {
      "cell_type": "code",
      "source": [
        "sm.stats.acorr_ljungbox(DAX['Monthly log return'],  lag = [1], return_df=True)"
      ],
      "metadata": {
        "id": "ZNm5wepeAf9v"
      },
      "execution_count": null,
      "outputs": []
    },
    {
      "cell_type": "markdown",
      "source": [
        "Assumptions about residuals' normal distribution."
      ],
      "metadata": {
        "id": "MzbM9XA7Ah4Q"
      }
    },
    {
      "cell_type": "code",
      "source": [
        "jb_stat_DAX, jb_pval_DAX = jarque_bera(DAX['Monthly log return'])\n",
        "if jb_pval_DAX < 0.05:\n",
        "    print(\"The distribution of DAX returns is significantly non-normal (p < 0.05)\", jb_pval_DAX)\n",
        "else:\n",
        "    print(\"The distribution of DAX returns is not significantly non-normal (p >= 0.05)\")\n",
        "print(f\"Jarque-Bera test statistic: {jb_stat_DAX:.4f}\")"
      ],
      "metadata": {
        "id": "7SNaVR55AmgO"
      },
      "execution_count": null,
      "outputs": []
    },
    {
      "cell_type": "markdown",
      "source": [
        "Optimal lag selection for the GARCH model."
      ],
      "metadata": {
        "id": "jhPpTSbFApQG"
      }
    },
    {
      "cell_type": "code",
      "source": [
        "def garch_lag(df, col, max_lag=13):\n",
        "    best_lag = None\n",
        "    best_aic = np.inf\n",
        "\n",
        "    for lag in range(1, max_lag + 1):\n",
        "        gim = ARCHInMean(df[col], lags=[lag], volatility=GARCH(p=1, q=1), distribution=GeneralizedError(), form='var')\n",
        "        res = gim.fit(disp='off')\n",
        "        aic = res.aic\n",
        "        if aic < best_aic:\n",
        "            best_lag = lag\n",
        "            best_aic = aic\n",
        "\n",
        "    print(\"Best Lag Structure:\", [best_lag])\n",
        "    print(\"AIC:\", best_aic)\n",
        "\n",
        "with warnings.catch_warnings():\n",
        "    warnings.simplefilter(\"ignore\")\n",
        "    print('Best lag for S_P500')\n",
        "    garch_lag(S_P500, \"Monthly log return\", max_lag=12)\n",
        "    print('Best lag for DAX')\n",
        "    garch_lag(DAX, \"Monthly log return\", max_lag=12)\n",
        "    print('Best lag for REIT')\n",
        "    garch_lag(REIT, \"Monthly log return\", max_lag=12)"
      ],
      "metadata": {
        "id": "Re3bwlX5AuBL"
      },
      "execution_count": null,
      "outputs": []
    },
    {
      "cell_type": "markdown",
      "source": [
        "Construction of the GARCH-IN-MEAN model."
      ],
      "metadata": {
        "id": "FBYLDISeAxj8"
      }
    },
    {
      "cell_type": "code",
      "source": [
        "GARCH_DAX = ARCHInMean(DAX['Monthly log return'], lags=[1], volatility=GARCH(p=1, q=1), distribution=GeneralizedError(), form='var')\n",
        "GARCH_DAX_results = GARCH_DAX.fit(disp='off')\n",
        "\n",
        "print(GARCH_DAX_results.summary())"
      ],
      "metadata": {
        "id": "ft-aTg2RA22T"
      },
      "execution_count": null,
      "outputs": []
    },
    {
      "cell_type": "markdown",
      "source": [
        "Application of rolling regression."
      ],
      "metadata": {
        "id": "bkawcx-KBGDK"
      }
    },
    {
      "cell_type": "code",
      "source": [
        "window_size = 96\n",
        "rolling_avg_returns = []\n",
        "rolling_beta_values = []\n",
        "rolling_std_values = []\n",
        "\n",
        "for i in range(window_size, len(DAX[\"Monthly return\"]) + 1):\n",
        "    subset = DAX[\"Monthly return\"].iloc[i-window_size:i]\n",
        "    subset_complex = subset.apply(lambda x: complex(x, 0))\n",
        "\n",
        "    abs_subset = np.abs(subset_complex)\n",
        "    sign_subset = np.sign(subset_complex)\n",
        "\n",
        "    # average\n",
        "    avg_return = np.float_power(abs_subset.iloc[-1] / abs_subset.iloc[0], 1/window_size) - 1\n",
        "    avg_return = avg_return * sign_subset.iloc[0]\n",
        "    rolling_avg_returns.append(avg_return)\n",
        "    # beta\n",
        "    beta_subset = DAX['DAX return'].iloc[i-window_size:i]\n",
        "    rolling_beta = beta_subset.cov(DAX['RF return']) / DAX['RF return'].var()\n",
        "    rolling_beta_values.append(rolling_beta)\n",
        "    # std\n",
        "    rolling_std = subset.std() * np.sqrt(12)\n",
        "    rolling_std_values.append(rolling_std)\n",
        "\n",
        "\n",
        "rolling_beta = pd.Series(rolling_beta_values + [np.nan] * (len(DAX[\"DAX return\"]) - len(rolling_beta_values)))\n",
        "rolling_avg_returns = pd.Series(rolling_avg_returns + [np.nan] * (len(DAX[\"Monthly return\"]) - len(rolling_avg_returns)))\n",
        "rolling_std = pd.Series(rolling_std_values + [np.nan] * (len(S_P500[\"Monthly return\"]) - len(rolling_std_values)))"
      ],
      "metadata": {
        "id": "seYUDDDnBK3J"
      },
      "execution_count": null,
      "outputs": []
    },
    {
      "cell_type": "markdown",
      "source": [
        "We save the data in a new dataset."
      ],
      "metadata": {
        "id": "go1tKKOsBRx4"
      }
    },
    {
      "cell_type": "code",
      "source": [
        "rolling_df = pd.DataFrame({\n",
        "    'Date': DAX['Date'].iloc[window_size-1:].reset_index(drop=True),\n",
        "    'Rolling Avg': rolling_avg_returns,\n",
        "    'Rolling Beta': rolling_beta,\n",
        "    'Rolling Std': rolling_std\n",
        "})\n"
      ],
      "metadata": {
        "id": "iPO-dYtzBWM7"
      },
      "execution_count": null,
      "outputs": []
    },
    {
      "cell_type": "markdown",
      "source": [
        "We remove missing (NaN) values."
      ],
      "metadata": {
        "id": "waw81IFrBY2Z"
      }
    },
    {
      "cell_type": "code",
      "source": [
        "rolling_df.dropna(inplace=True)"
      ],
      "metadata": {
        "id": "vIo2onB7Bcpi"
      },
      "execution_count": null,
      "outputs": []
    },
    {
      "cell_type": "markdown",
      "source": [
        "We test whether the relationship between beta coefficients and returns is statistically significant."
      ],
      "metadata": {
        "id": "IeUCIgNBBea4"
      }
    },
    {
      "cell_type": "code",
      "source": [
        "rolling_avg_returns = rolling_df['Rolling Avg'].apply(lambda x: x.real)\n",
        "\n",
        "y = rolling_avg_returns\n",
        "X = rolling_df['Rolling Beta']\n",
        "\n",
        "X = sm.add_constant(X)\n",
        "\n",
        "model = sm.OLS(y, X).fit()\n",
        "\n",
        "print(model.summary())"
      ],
      "metadata": {
        "id": "ZpSF8V_1BivW"
      },
      "execution_count": null,
      "outputs": []
    },
    {
      "cell_type": "markdown",
      "source": [
        "We test whether the relationship between standard deviation and returns is statistically significant."
      ],
      "metadata": {
        "id": "6MxayP5JBkz1"
      }
    },
    {
      "cell_type": "code",
      "source": [
        "rolling_avg_returns = rolling_df['Rolling Avg'].apply(lambda x: x.real)\n",
        "\n",
        "y = rolling_avg_returns\n",
        "X = rolling_df[['Rolling Std', 'Rolling Beta']]\n",
        "\n",
        "X = sm.add_constant(X)\n",
        "\n",
        "model = sm.OLS(y, X).fit()\n",
        "\n",
        "print(model.summary())"
      ],
      "metadata": {
        "id": "pm_bnT25Bql3"
      },
      "execution_count": null,
      "outputs": []
    },
    {
      "cell_type": "markdown",
      "source": [
        "Application of cross-sectional regression."
      ],
      "metadata": {
        "id": "wCTNmTNNBspT"
      }
    },
    {
      "cell_type": "code",
      "source": [
        "subperiod_size = 29\n",
        "num_subperiods = 10\n",
        "\n",
        "regression_results_df = pd.DataFrame(columns=['Subperiod', 'Date From', 'Date To', 'Coef Beta', 'Pval Beta', 'Coef Std', 'Pval Std'])\n",
        "\n",
        "for i in range(num_subperiods):\n",
        "    start_index = i * subperiod_size\n",
        "    end_index = start_index + subperiod_size\n",
        "    subset = rolling_df.iloc[start_index:end_index]\n",
        "\n",
        "    x_std = subset['Rolling Std']\n",
        "    x_beta = subset['Rolling Beta']\n",
        "    y = subset['Rolling Avg']\n",
        "\n",
        "    x = pd.concat([x_std, x_beta], axis=1)\n",
        "    x = sm.add_constant(x)\n",
        "    model = sm.OLS(y, x)\n",
        "    results = model.fit()\n",
        "\n",
        "    coef_beta = results.params['Rolling Beta']\n",
        "    pval_beta = results.pvalues['Rolling Beta']\n",
        "    coef_std = results.params['Rolling Std']\n",
        "    pval_std = results.pvalues['Rolling Std']\n",
        "\n",
        "    subperiod_dates = subset.index\n",
        "    date_from = subperiod_dates[0]\n",
        "    date_to = subperiod_dates[-1]\n",
        "\n",
        "    regression_results_df = regression_results_df.append({\n",
        "        'Subperiod': i + 1,\n",
        "        'Date From': date_from,\n",
        "        'Date To': date_to,\n",
        "        'Coef Beta': coef_beta,\n",
        "        'Pval Beta': pval_beta,\n",
        "        'Coef Std': coef_std,\n",
        "        'Pval Std': pval_std\n",
        "    }, ignore_index=True)\n",
        "\n",
        "print(regression_results_df)\n"
      ],
      "metadata": {
        "id": "ORW2qjMSBxNO"
      },
      "execution_count": null,
      "outputs": []
    },
    {
      "cell_type": "markdown",
      "source": [
        "Calculation of correlation between generated returns and standard deviation indicators."
      ],
      "metadata": {
        "id": "O2tIbCxGB0oi"
      }
    },
    {
      "cell_type": "code",
      "source": [
        "corr, p_value = spearmanr(rolling_df1['Rolling Avg'], rolling_df1['Rolling Std'])\n",
        "print('Spearman correlation: %.3f' % corr)\n",
        "print('p-value: %.3f' % p_value)"
      ],
      "metadata": {
        "id": "OMRi5LHzB6aw"
      },
      "execution_count": null,
      "outputs": []
    }
  ]
}